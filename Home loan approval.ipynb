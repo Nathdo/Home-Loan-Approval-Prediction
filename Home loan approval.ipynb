{
 "cells": [
  {
   "cell_type": "markdown",
   "id": "e5f4c87b-6b64-4d31-874c-bd7e3e739003",
   "metadata": {},
   "source": [
    "# Real estate loan prediction\n",
    "\n",
    "**Objective:** Predict client eligibility for a home loan\n",
    "\n",
    "**Data :** https://www.kaggle.com/datasets/rishikeshkonapure/home-loan-approval?select=loan_sanction_test.csv"
   ]
  },
  {
   "cell_type": "code",
   "execution_count": 1,
   "id": "cca06478-a6fb-4a73-9883-b7c182b0ade3",
   "metadata": {},
   "outputs": [
    {
     "data": {
      "text/html": [
       "<div>\n",
       "<style scoped>\n",
       "    .dataframe tbody tr th:only-of-type {\n",
       "        vertical-align: middle;\n",
       "    }\n",
       "\n",
       "    .dataframe tbody tr th {\n",
       "        vertical-align: top;\n",
       "    }\n",
       "\n",
       "    .dataframe thead th {\n",
       "        text-align: right;\n",
       "    }\n",
       "</style>\n",
       "<table border=\"1\" class=\"dataframe\">\n",
       "  <thead>\n",
       "    <tr style=\"text-align: right;\">\n",
       "      <th></th>\n",
       "      <th>Loan_ID</th>\n",
       "      <th>Gender</th>\n",
       "      <th>Married</th>\n",
       "      <th>Dependents</th>\n",
       "      <th>Education</th>\n",
       "      <th>Self_Employed</th>\n",
       "      <th>ApplicantIncome</th>\n",
       "      <th>CoapplicantIncome</th>\n",
       "      <th>LoanAmount</th>\n",
       "      <th>Loan_Amount_Term</th>\n",
       "      <th>Credit_History</th>\n",
       "      <th>Property_Area</th>\n",
       "      <th>Loan_Status</th>\n",
       "    </tr>\n",
       "  </thead>\n",
       "  <tbody>\n",
       "    <tr>\n",
       "      <th>0</th>\n",
       "      <td>LP001002</td>\n",
       "      <td>Male</td>\n",
       "      <td>No</td>\n",
       "      <td>0</td>\n",
       "      <td>Graduate</td>\n",
       "      <td>No</td>\n",
       "      <td>5849</td>\n",
       "      <td>0.0</td>\n",
       "      <td>NaN</td>\n",
       "      <td>360.0</td>\n",
       "      <td>1.0</td>\n",
       "      <td>Urban</td>\n",
       "      <td>Y</td>\n",
       "    </tr>\n",
       "    <tr>\n",
       "      <th>1</th>\n",
       "      <td>LP001003</td>\n",
       "      <td>Male</td>\n",
       "      <td>Yes</td>\n",
       "      <td>1</td>\n",
       "      <td>Graduate</td>\n",
       "      <td>No</td>\n",
       "      <td>4583</td>\n",
       "      <td>1508.0</td>\n",
       "      <td>128.0</td>\n",
       "      <td>360.0</td>\n",
       "      <td>1.0</td>\n",
       "      <td>Rural</td>\n",
       "      <td>N</td>\n",
       "    </tr>\n",
       "    <tr>\n",
       "      <th>2</th>\n",
       "      <td>LP001005</td>\n",
       "      <td>Male</td>\n",
       "      <td>Yes</td>\n",
       "      <td>0</td>\n",
       "      <td>Graduate</td>\n",
       "      <td>Yes</td>\n",
       "      <td>3000</td>\n",
       "      <td>0.0</td>\n",
       "      <td>66.0</td>\n",
       "      <td>360.0</td>\n",
       "      <td>1.0</td>\n",
       "      <td>Urban</td>\n",
       "      <td>Y</td>\n",
       "    </tr>\n",
       "    <tr>\n",
       "      <th>3</th>\n",
       "      <td>LP001006</td>\n",
       "      <td>Male</td>\n",
       "      <td>Yes</td>\n",
       "      <td>0</td>\n",
       "      <td>Not Graduate</td>\n",
       "      <td>No</td>\n",
       "      <td>2583</td>\n",
       "      <td>2358.0</td>\n",
       "      <td>120.0</td>\n",
       "      <td>360.0</td>\n",
       "      <td>1.0</td>\n",
       "      <td>Urban</td>\n",
       "      <td>Y</td>\n",
       "    </tr>\n",
       "    <tr>\n",
       "      <th>4</th>\n",
       "      <td>LP001008</td>\n",
       "      <td>Male</td>\n",
       "      <td>No</td>\n",
       "      <td>0</td>\n",
       "      <td>Graduate</td>\n",
       "      <td>No</td>\n",
       "      <td>6000</td>\n",
       "      <td>0.0</td>\n",
       "      <td>141.0</td>\n",
       "      <td>360.0</td>\n",
       "      <td>1.0</td>\n",
       "      <td>Urban</td>\n",
       "      <td>Y</td>\n",
       "    </tr>\n",
       "  </tbody>\n",
       "</table>\n",
       "</div>"
      ],
      "text/plain": [
       "    Loan_ID Gender Married Dependents     Education Self_Employed  \\\n",
       "0  LP001002   Male      No          0      Graduate            No   \n",
       "1  LP001003   Male     Yes          1      Graduate            No   \n",
       "2  LP001005   Male     Yes          0      Graduate           Yes   \n",
       "3  LP001006   Male     Yes          0  Not Graduate            No   \n",
       "4  LP001008   Male      No          0      Graduate            No   \n",
       "\n",
       "   ApplicantIncome  CoapplicantIncome  LoanAmount  Loan_Amount_Term  \\\n",
       "0             5849                0.0         NaN             360.0   \n",
       "1             4583             1508.0       128.0             360.0   \n",
       "2             3000                0.0        66.0             360.0   \n",
       "3             2583             2358.0       120.0             360.0   \n",
       "4             6000                0.0       141.0             360.0   \n",
       "\n",
       "   Credit_History Property_Area Loan_Status  \n",
       "0             1.0         Urban           Y  \n",
       "1             1.0         Rural           N  \n",
       "2             1.0         Urban           Y  \n",
       "3             1.0         Urban           Y  \n",
       "4             1.0         Urban           Y  "
      ]
     },
     "execution_count": 1,
     "metadata": {},
     "output_type": "execute_result"
    }
   ],
   "source": [
    "import pandas as pd\n",
    "import numpy as np\n",
    "import seaborn as sns\n",
    "import warnings\n",
    "warnings.filterwarnings('ignore')\n",
    "import matplotlib.pyplot as plt\n",
    "\n",
    "data = pd.read_csv('/Users/nathan/Desktop/loan_sanction_train.csv')\n",
    "data_save = data.copy()\n",
    "data.head() "
   ]
  },
  {
   "cell_type": "code",
   "execution_count": 2,
   "id": "de408a4a-799d-4792-94c1-1392d3b15325",
   "metadata": {},
   "outputs": [
    {
     "data": {
      "text/plain": [
       "(614, 13)"
      ]
     },
     "execution_count": 2,
     "metadata": {},
     "output_type": "execute_result"
    }
   ],
   "source": [
    "data.shape"
   ]
  },
  {
   "cell_type": "code",
   "execution_count": 3,
   "id": "d32b6c1d-d939-4913-bdd6-9299a98c5dca",
   "metadata": {},
   "outputs": [
    {
     "data": {
      "text/plain": [
       "Y    0.687296\n",
       "N    0.312704\n",
       "Name: Loan_Status, dtype: float64"
      ]
     },
     "execution_count": 3,
     "metadata": {},
     "output_type": "execute_result"
    }
   ],
   "source": [
    "data.Loan_Status.value_counts(normalize = True)"
   ]
  },
  {
   "cell_type": "code",
   "execution_count": 4,
   "id": "4d3cc087-a39f-4ab8-af2f-8505dfd47911",
   "metadata": {},
   "outputs": [
    {
     "name": "stdout",
     "output_type": "stream",
     "text": [
      "<class 'pandas.core.frame.DataFrame'>\n",
      "RangeIndex: 614 entries, 0 to 613\n",
      "Data columns (total 13 columns):\n",
      " #   Column             Non-Null Count  Dtype  \n",
      "---  ------             --------------  -----  \n",
      " 0   Loan_ID            614 non-null    object \n",
      " 1   Gender             601 non-null    object \n",
      " 2   Married            611 non-null    object \n",
      " 3   Dependents         599 non-null    object \n",
      " 4   Education          614 non-null    object \n",
      " 5   Self_Employed      582 non-null    object \n",
      " 6   ApplicantIncome    614 non-null    int64  \n",
      " 7   CoapplicantIncome  614 non-null    float64\n",
      " 8   LoanAmount         592 non-null    float64\n",
      " 9   Loan_Amount_Term   600 non-null    float64\n",
      " 10  Credit_History     564 non-null    float64\n",
      " 11  Property_Area      614 non-null    object \n",
      " 12  Loan_Status        614 non-null    object \n",
      "dtypes: float64(4), int64(1), object(8)\n",
      "memory usage: 62.5+ KB\n"
     ]
    }
   ],
   "source": [
    "data.info()"
   ]
  },
  {
   "cell_type": "code",
   "execution_count": 5,
   "id": "499a30fc-7481-4ca9-a018-642eb20e5867",
   "metadata": {},
   "outputs": [
    {
     "data": {
      "text/html": [
       "<div>\n",
       "<style scoped>\n",
       "    .dataframe tbody tr th:only-of-type {\n",
       "        vertical-align: middle;\n",
       "    }\n",
       "\n",
       "    .dataframe tbody tr th {\n",
       "        vertical-align: top;\n",
       "    }\n",
       "\n",
       "    .dataframe thead th {\n",
       "        text-align: right;\n",
       "    }\n",
       "</style>\n",
       "<table border=\"1\" class=\"dataframe\">\n",
       "  <thead>\n",
       "    <tr style=\"text-align: right;\">\n",
       "      <th></th>\n",
       "      <th>ApplicantIncome</th>\n",
       "      <th>CoapplicantIncome</th>\n",
       "      <th>LoanAmount</th>\n",
       "      <th>Loan_Amount_Term</th>\n",
       "      <th>Credit_History</th>\n",
       "    </tr>\n",
       "  </thead>\n",
       "  <tbody>\n",
       "    <tr>\n",
       "      <th>count</th>\n",
       "      <td>614.000000</td>\n",
       "      <td>614.000000</td>\n",
       "      <td>592.000000</td>\n",
       "      <td>600.00000</td>\n",
       "      <td>564.000000</td>\n",
       "    </tr>\n",
       "    <tr>\n",
       "      <th>mean</th>\n",
       "      <td>5403.459283</td>\n",
       "      <td>1621.245798</td>\n",
       "      <td>146.412162</td>\n",
       "      <td>342.00000</td>\n",
       "      <td>0.842199</td>\n",
       "    </tr>\n",
       "    <tr>\n",
       "      <th>std</th>\n",
       "      <td>6109.041673</td>\n",
       "      <td>2926.248369</td>\n",
       "      <td>85.587325</td>\n",
       "      <td>65.12041</td>\n",
       "      <td>0.364878</td>\n",
       "    </tr>\n",
       "    <tr>\n",
       "      <th>min</th>\n",
       "      <td>150.000000</td>\n",
       "      <td>0.000000</td>\n",
       "      <td>9.000000</td>\n",
       "      <td>12.00000</td>\n",
       "      <td>0.000000</td>\n",
       "    </tr>\n",
       "    <tr>\n",
       "      <th>25%</th>\n",
       "      <td>2877.500000</td>\n",
       "      <td>0.000000</td>\n",
       "      <td>100.000000</td>\n",
       "      <td>360.00000</td>\n",
       "      <td>1.000000</td>\n",
       "    </tr>\n",
       "    <tr>\n",
       "      <th>50%</th>\n",
       "      <td>3812.500000</td>\n",
       "      <td>1188.500000</td>\n",
       "      <td>128.000000</td>\n",
       "      <td>360.00000</td>\n",
       "      <td>1.000000</td>\n",
       "    </tr>\n",
       "    <tr>\n",
       "      <th>75%</th>\n",
       "      <td>5795.000000</td>\n",
       "      <td>2297.250000</td>\n",
       "      <td>168.000000</td>\n",
       "      <td>360.00000</td>\n",
       "      <td>1.000000</td>\n",
       "    </tr>\n",
       "    <tr>\n",
       "      <th>max</th>\n",
       "      <td>81000.000000</td>\n",
       "      <td>41667.000000</td>\n",
       "      <td>700.000000</td>\n",
       "      <td>480.00000</td>\n",
       "      <td>1.000000</td>\n",
       "    </tr>\n",
       "  </tbody>\n",
       "</table>\n",
       "</div>"
      ],
      "text/plain": [
       "       ApplicantIncome  CoapplicantIncome  LoanAmount  Loan_Amount_Term  \\\n",
       "count       614.000000         614.000000  592.000000         600.00000   \n",
       "mean       5403.459283        1621.245798  146.412162         342.00000   \n",
       "std        6109.041673        2926.248369   85.587325          65.12041   \n",
       "min         150.000000           0.000000    9.000000          12.00000   \n",
       "25%        2877.500000           0.000000  100.000000         360.00000   \n",
       "50%        3812.500000        1188.500000  128.000000         360.00000   \n",
       "75%        5795.000000        2297.250000  168.000000         360.00000   \n",
       "max       81000.000000       41667.000000  700.000000         480.00000   \n",
       "\n",
       "       Credit_History  \n",
       "count      564.000000  \n",
       "mean         0.842199  \n",
       "std          0.364878  \n",
       "min          0.000000  \n",
       "25%          1.000000  \n",
       "50%          1.000000  \n",
       "75%          1.000000  \n",
       "max          1.000000  "
      ]
     },
     "execution_count": 5,
     "metadata": {},
     "output_type": "execute_result"
    }
   ],
   "source": [
    "data.describe()"
   ]
  },
  {
   "cell_type": "markdown",
   "id": "af32e512-c60a-4e1d-8c86-f511d976b55e",
   "metadata": {},
   "source": [
    "## Conclusion of Global Analyse (EDA)\n",
    "\n",
    "  * Dataset size : (615, 13)\n",
    "  * Target : Yes = 422,  No  = 192   -> 31% N / 69% Y (we have a unbalenced dataset)\n",
    "  * Different types : object = 8, float = 4, int = 1\n",
    "  * Missing values : We have 7 columns that contain missing values ​​(not many values)."
   ]
  },
  {
   "cell_type": "markdown",
   "id": "63d6d6cc-b4da-4da8-b87f-dec23084174c",
   "metadata": {
    "tags": []
   },
   "source": [
    "## Continuous variable histogram\n",
    "\n",
    "We have here in both cases a positive asymmetry, which means that the outliers are on the left (mean > median). Indeed, the mean in the column `CoapplicantIncome` is 1621 while the median is 1188. Same for the column `LoanAmount`"
   ]
  },
  {
   "cell_type": "code",
   "execution_count": 6,
   "id": "b54ce8a0-c6e0-4570-8d85-e57b8c80bf74",
   "metadata": {},
   "outputs": [
    {
     "data": {
      "image/png": "[encoded data removed]",
      "text/plain": [
       "<Figure size 720x288 with 1 Axes>"
      ]
     },
     "metadata": {
      "needs_background": "light"
     },
     "output_type": "display_data"
    },
    {
     "data": {
      "image/png": "[encoded data removed]",
      "text/plain": [
       "<Figure size 720x288 with 1 Axes>"
      ]
     },
     "metadata": {
      "needs_background": "light"
     },
     "output_type": "display_data"
    }
   ],
   "source": [
    "for col in data.select_dtypes('float'):\n",
    "    if col != 'Credit_History' and col != 'Loan_Amount_Term' :   # credit_history(1/0).\n",
    "        plt.figure(figsize=[10,4])\n",
    "        plt.title(col)\n",
    "        sns.distplot(x = data[col])"
   ]
  },
  {
   "cell_type": "markdown",
   "id": "55fef179-b075-4826-bc84-3aa30ed9ba94",
   "metadata": {},
   "source": [
    "## Ratio Credit_History / Target"
   ]
  },
  {
   "cell_type": "code",
   "execution_count": 7,
   "id": "78baf66b-4f85-42d0-a59c-607f73acbbb5",
   "metadata": {},
   "outputs": [
    {
     "data": {
      "text/html": [
       "<div>\n",
       "<style scoped>\n",
       "    .dataframe tbody tr th:only-of-type {\n",
       "        vertical-align: middle;\n",
       "    }\n",
       "\n",
       "    .dataframe tbody tr th {\n",
       "        vertical-align: top;\n",
       "    }\n",
       "\n",
       "    .dataframe thead th {\n",
       "        text-align: right;\n",
       "    }\n",
       "</style>\n",
       "<table border=\"1\" class=\"dataframe\">\n",
       "  <thead>\n",
       "    <tr style=\"text-align: right;\">\n",
       "      <th>Loan_Status</th>\n",
       "      <th>N</th>\n",
       "      <th>Y</th>\n",
       "    </tr>\n",
       "    <tr>\n",
       "      <th>Credit_History</th>\n",
       "      <th></th>\n",
       "      <th></th>\n",
       "    </tr>\n",
       "  </thead>\n",
       "  <tbody>\n",
       "    <tr>\n",
       "      <th>0.0</th>\n",
       "      <td>82</td>\n",
       "      <td>7</td>\n",
       "    </tr>\n",
       "    <tr>\n",
       "      <th>1.0</th>\n",
       "      <td>97</td>\n",
       "      <td>378</td>\n",
       "    </tr>\n",
       "  </tbody>\n",
       "</table>\n",
       "</div>"
      ],
      "text/plain": [
       "Loan_Status      N    Y\n",
       "Credit_History         \n",
       "0.0             82    7\n",
       "1.0             97  378"
      ]
     },
     "execution_count": 7,
     "metadata": {},
     "output_type": "execute_result"
    },
    {
     "data": {
      "image/png": "[encoded data removed]",
      "text/plain": [
       "<Figure size 1080x288 with 1 Axes>"
      ]
     },
     "metadata": {
      "needs_background": "light"
     },
     "output_type": "display_data"
    }
   ],
   "source": [
    "pd.crosstab(data['Credit_History'], data['Loan_Status']).plot.bar(color = ['orangered', 'palegreen'], figsize = [15,4])\n",
    "plt.xticks(rotation = 45)\n",
    "plt.title('Loan Status / Credit History')\n",
    "plt.grid()\n",
    "plt.ylabel('Number of loans');\n",
    "\n",
    "pd.crosstab(data['Credit_History'], data['Loan_Status'])"
   ]
  },
  {
   "cell_type": "markdown",
   "id": "f2ab078a-e32c-4395-a113-4ad2dc5dfade",
   "metadata": {},
   "source": [
    "**Credit_history / target:** Concerning our column `Credit_History`, we can notice that a person having already contracted a loan in the past has a much better chance that his new loan will be accepted (79.5% against 7.8%).\n",
    "So we can hold a hypothesis that having taken out a loan in the past greatly influences the authorization of a new loan"
   ]
  },
  {
   "cell_type": "markdown",
   "id": "e9cfda31-47d1-4c46-99ae-b1bad2f40a4f",
   "metadata": {},
   "source": [
    "## Ratio Graduate / Target"
   ]
  },
  {
   "cell_type": "code",
   "execution_count": 8,
   "id": "1ae3881b-b1e3-4ae3-8229-077f9affa14a",
   "metadata": {},
   "outputs": [
    {
     "data": {
      "text/html": [
       "<div>\n",
       "<style scoped>\n",
       "    .dataframe tbody tr th:only-of-type {\n",
       "        vertical-align: middle;\n",
       "    }\n",
       "\n",
       "    .dataframe tbody tr th {\n",
       "        vertical-align: top;\n",
       "    }\n",
       "\n",
       "    .dataframe thead th {\n",
       "        text-align: right;\n",
       "    }\n",
       "</style>\n",
       "<table border=\"1\" class=\"dataframe\">\n",
       "  <thead>\n",
       "    <tr style=\"text-align: right;\">\n",
       "      <th>Loan_Status</th>\n",
       "      <th>N</th>\n",
       "      <th>Y</th>\n",
       "    </tr>\n",
       "    <tr>\n",
       "      <th>Education</th>\n",
       "      <th></th>\n",
       "      <th></th>\n",
       "    </tr>\n",
       "  </thead>\n",
       "  <tbody>\n",
       "    <tr>\n",
       "      <th>Graduate</th>\n",
       "      <td>140</td>\n",
       "      <td>340</td>\n",
       "    </tr>\n",
       "    <tr>\n",
       "      <th>Not Graduate</th>\n",
       "      <td>52</td>\n",
       "      <td>82</td>\n",
       "    </tr>\n",
       "  </tbody>\n",
       "</table>\n",
       "</div>"
      ],
      "text/plain": [
       "Loan_Status     N    Y\n",
       "Education             \n",
       "Graduate      140  340\n",
       "Not Graduate   52   82"
      ]
     },
     "execution_count": 8,
     "metadata": {},
     "output_type": "execute_result"
    },
    {
     "data": {
      "image/png": "[encoded data removed]",
      "text/plain": [
       "<Figure size 1080x288 with 1 Axes>"
      ]
     },
     "metadata": {
      "needs_background": "light"
     },
     "output_type": "display_data"
    }
   ],
   "source": [
    "pd.crosstab(data.Education, data.Loan_Status).plot(kind = 'bar', figsize = [15,4])\n",
    "plt.title('Graduation / Loan Status', color = 'blue', size = 17)\n",
    "plt.style.use('seaborn-dark')\n",
    "plt.grid()\n",
    "plt.xticks(rotation = 0);\n",
    "\n",
    "pd.crosstab(data.Education, data.Loan_Status)"
   ]
  },
  {
   "cell_type": "markdown",
   "id": "27acca37-4bb8-428c-9475-1a6ff0aeffee",
   "metadata": {},
   "source": [
    "**Education / Target:** A graduate has a 70% chance of being able to take out a mortgage against 61% for a non-graduate. We can therefore assume that the fact of being a graduate or not has no real impact on the authorization of the loan."
   ]
  },
  {
   "cell_type": "markdown",
   "id": "bf418d68-777c-42be-9a4f-b82cc8cbdce8",
   "metadata": {
    "tags": []
   },
   "source": [
    "## Outliers"
   ]
  },
  {
   "cell_type": "code",
   "execution_count": 9,
   "id": "0519abfd-9db3-453e-9d48-2c6bb2da4713",
   "metadata": {},
   "outputs": [
    {
     "data": {
      "image/png": "[encoded data removed]",
      "text/plain": [
       "<Figure size 1080x360 with 1 Axes>"
      ]
     },
     "metadata": {},
     "output_type": "display_data"
    }
   ],
   "source": [
    "plt.figure(figsize= [15,5])\n",
    "sns.boxplot(data = data)\n",
    "plt.style.use('ggplot')\n",
    "plt.grid()"
   ]
  },
  {
   "cell_type": "code",
   "execution_count": 10,
   "id": "04943808-42aa-433e-b6b9-2ab65fbef659",
   "metadata": {},
   "outputs": [],
   "source": [
    "def detect_outlier(col):\n",
    "    '''\n",
    "    function to detect outliers (using z score)\n",
    "    '''\n",
    "    outliers = []\n",
    "    threshold = 3                       # seuil standard\n",
    "    mean = np.mean(col)\n",
    "    std = np.std(col)\n",
    "    \n",
    "    for i in col : \n",
    "        z_score = (i - mean) / std            # formule z-score\n",
    "        if np.abs(z_score) > threshold :\n",
    "            outliers.append(i)\n",
    "    return outliers"
   ]
  },
  {
   "cell_type": "code",
   "execution_count": 11,
   "id": "8f3334e3-4cb1-4704-af09-f5eba2a4fd5a",
   "metadata": {},
   "outputs": [
    {
     "data": {
      "text/plain": [
       "[23803, 39999, 51763, 33846, 39147, 63337, 81000, 37719]"
      ]
     },
     "execution_count": 11,
     "metadata": {},
     "output_type": "execute_result"
    }
   ],
   "source": [
    "detect_outlier(data['ApplicantIncome'])   # drop 81000, 63000"
   ]
  },
  {
   "cell_type": "code",
   "execution_count": 12,
   "id": "e144f434-2bbb-4697-b251-938b4f1ca5b4",
   "metadata": {},
   "outputs": [
    {
     "data": {
      "text/plain": [
       "[10968.0, 11300.0, 20000.0, 20000.0, 33837.0, 41667.0]"
      ]
     },
     "execution_count": 12,
     "metadata": {},
     "output_type": "execute_result"
    }
   ],
   "source": [
    "detect_outlier(data['CoapplicantIncome'])    # drop 41000"
   ]
  },
  {
   "cell_type": "markdown",
   "id": "bb498766-77f1-4022-b6f7-7d380e630997",
   "metadata": {
    "jp-MarkdownHeadingCollapsed": true,
    "tags": []
   },
   "source": [
    "## Correlation between variables"
   ]
  },
  {
   "cell_type": "code",
   "execution_count": 13,
   "id": "934bbf04-e800-4580-867f-92aa8a47f08a",
   "metadata": {},
   "outputs": [
    {
     "data": {
      "image/png": "[encoded data removed]",
      "text/plain": [
       "<Figure size 1080x360 with 4 Axes>"
      ]
     },
     "metadata": {},
     "output_type": "display_data"
    }
   ],
   "source": [
    "sns.clustermap(data.corr(), annot = True, figsize = [15,5], cmap=\"mako\"); "
   ]
  },
  {
   "cell_type": "markdown",
   "id": "e64b4583-0758-45c0-8ca8-42f6943d86f5",
   "metadata": {},
   "source": [
    "# Imputation"
   ]
  },
  {
   "cell_type": "code",
   "execution_count": 14,
   "id": "a27f2536-0d99-4827-b1ed-7057204f9b88",
   "metadata": {},
   "outputs": [
    {
     "data": {
      "text/plain": [
       "Loan_ID               0\n",
       "Gender               13\n",
       "Married               3\n",
       "Dependents           15\n",
       "Education             0\n",
       "Self_Employed        32\n",
       "ApplicantIncome       0\n",
       "CoapplicantIncome     0\n",
       "LoanAmount           22\n",
       "Loan_Amount_Term     14\n",
       "Credit_History       50\n",
       "Property_Area         0\n",
       "Loan_Status           0\n",
       "dtype: int64"
      ]
     },
     "execution_count": 14,
     "metadata": {},
     "output_type": "execute_result"
    }
   ],
   "source": [
    "data.isna().sum()"
   ]
  },
  {
   "cell_type": "code",
   "execution_count": 15,
   "id": "019c5de6-99ab-4cf6-8487-bbbcd9f543fd",
   "metadata": {},
   "outputs": [
    {
     "data": {
      "image/png": "[encoded data removed]",
      "text/plain": [
       "<Figure size 1800x432 with 1 Axes>"
      ]
     },
     "metadata": {},
     "output_type": "display_data"
    }
   ],
   "source": [
    "# visualization of missing values\n",
    "\n",
    "plt.figure(figsize=[25,6])\n",
    "sns.heatmap(data.isna(), cbar= False,  cmap='Greens');"
   ]
  },
  {
   "cell_type": "code",
   "execution_count": 16,
   "id": "e8286ca2-d692-4d91-a7d5-78088ddd138b",
   "metadata": {},
   "outputs": [],
   "source": [
    "from sklearn.impute import SimpleImputer\n",
    "from sklearn.compose import ColumnTransformer\n",
    "\n",
    "\n",
    "obj_lst = []    # object list\n",
    "num_lst = []    # numerical list\n",
    "\n",
    "for column, content in data.items():\n",
    "    if pd.api.types.is_object_dtype(content):\n",
    "            obj_lst.append(column)\n",
    "    elif pd.api.types.is_numeric_dtype(content):\n",
    "            num_lst.append(column)\n",
    "\n",
    "\n",
    "object_imputer = SimpleImputer(missing_values=np.nan, strategy = 'constant', fill_value='missing')\n",
    "int_imputer = SimpleImputer(missing_values=np.nan, strategy = 'median')\n",
    "\n",
    "imputer = ColumnTransformer([('object_lst', object_imputer, obj_lst),\n",
    "                                ('int_lst', int_imputer, num_lst)])"
   ]
  },
  {
   "cell_type": "code",
   "execution_count": 17,
   "id": "78730c42-ab1e-4b38-aa93-6789c0eea028",
   "metadata": {},
   "outputs": [],
   "source": [
    "df = imputer.fit_transform(data)\n",
    "df = pd.DataFrame(df, columns= ['Loan_ID', 'Gender', 'Married', 'Dependents', 'Education', \n",
    "                                        'Self_Employed', 'Property_Area', 'Target_Loan_Status','ApplicantIncome',\n",
    "                                        'CoapplicantIncome', 'LoanAmount','Loan_Amount_Term', 'Credit_History'])"
   ]
  },
  {
   "cell_type": "code",
   "execution_count": 18,
   "id": "f26b4aec-fc39-4cc4-a383-370b7cd5a684",
   "metadata": {},
   "outputs": [
    {
     "data": {
      "text/plain": [
       "Loan_ID               0\n",
       "Gender                0\n",
       "Married               0\n",
       "Dependents            0\n",
       "Education             0\n",
       "Self_Employed         0\n",
       "Property_Area         0\n",
       "Target_Loan_Status    0\n",
       "ApplicantIncome       0\n",
       "CoapplicantIncome     0\n",
       "LoanAmount            0\n",
       "Loan_Amount_Term      0\n",
       "Credit_History        0\n",
       "dtype: int64"
      ]
     },
     "execution_count": 18,
     "metadata": {},
     "output_type": "execute_result"
    }
   ],
   "source": [
    "df.isna().sum()"
   ]
  },
  {
   "cell_type": "code",
   "execution_count": 19,
   "id": "1f6d0c8b-1bac-40d4-9d94-78b37e13d0bf",
   "metadata": {},
   "outputs": [],
   "source": [
    "# return the numerical values to those who had it before the imputation\n",
    "\n",
    "for element in num_lst:\n",
    "    df[element] = pd.to_numeric(df[element])"
   ]
  },
  {
   "cell_type": "markdown",
   "id": "9ef10a70-94cb-4e82-97c5-b8e4ef2ba82e",
   "metadata": {
    "tags": []
   },
   "source": [
    "## Balance the dataset"
   ]
  },
  {
   "cell_type": "code",
   "execution_count": 20,
   "id": "e15d1821-c645-44a0-adde-920345c40592",
   "metadata": {},
   "outputs": [],
   "source": [
    "from imblearn.over_sampling import RandomOverSampler\n",
    "\n",
    "x = df.drop('Target_Loan_Status', axis = 1)\n",
    "y = df.Target_Loan_Status"
   ]
  },
  {
   "cell_type": "code",
   "execution_count": 21,
   "id": "9ed14bca-a218-49fd-b3df-11fbea46140a",
   "metadata": {},
   "outputs": [],
   "source": [
    "ross = RandomOverSampler()\n",
    "x_resample, y_resample = ross.fit_resample(x, y)"
   ]
  },
  {
   "cell_type": "code",
   "execution_count": 22,
   "id": "7926ce72-a29d-43bb-91e4-f618b4c2076a",
   "metadata": {},
   "outputs": [
    {
     "data": {
      "text/plain": [
       "(844, 12)"
      ]
     },
     "execution_count": 22,
     "metadata": {},
     "output_type": "execute_result"
    }
   ],
   "source": [
    "x_resample.shape"
   ]
  },
  {
   "cell_type": "code",
   "execution_count": 23,
   "id": "72902172-cdb8-4367-bf22-8da0d71286cd",
   "metadata": {},
   "outputs": [
    {
     "data": {
      "text/plain": [
       "Y    422\n",
       "N    422\n",
       "Name: Target_Loan_Status, dtype: int64"
      ]
     },
     "execution_count": 23,
     "metadata": {},
     "output_type": "execute_result"
    }
   ],
   "source": [
    "y_resample.value_counts()"
   ]
  },
  {
   "cell_type": "code",
   "execution_count": 24,
   "id": "9292fb0d-2148-4b71-adb3-0a62b1e7f127",
   "metadata": {},
   "outputs": [
    {
     "data": {
      "text/plain": [
       "844"
      ]
     },
     "execution_count": 24,
     "metadata": {},
     "output_type": "execute_result"
    }
   ],
   "source": [
    "x_resample.duplicated().count()"
   ]
  },
  {
   "cell_type": "markdown",
   "id": "ce36cece-afe5-4122-a2a4-df7d01217cd1",
   "metadata": {
    "tags": []
   },
   "source": [
    "## Encodage"
   ]
  },
  {
   "cell_type": "markdown",
   "id": "bb895a8f-ec21-4849-b8f2-5a0ef16efad8",
   "metadata": {},
   "source": [
    "### Features_columns"
   ]
  },
  {
   "cell_type": "code",
   "execution_count": 25,
   "id": "79f80c8e-37a1-49c7-9e72-f93790e0926c",
   "metadata": {},
   "outputs": [
    {
     "name": "stdout",
     "output_type": "stream",
     "text": [
      "<class 'pandas.core.frame.DataFrame'>\n",
      "RangeIndex: 844 entries, 0 to 843\n",
      "Data columns (total 12 columns):\n",
      " #   Column             Non-Null Count  Dtype  \n",
      "---  ------             --------------  -----  \n",
      " 0   Loan_ID            844 non-null    object \n",
      " 1   Gender             844 non-null    object \n",
      " 2   Married            844 non-null    object \n",
      " 3   Dependents         844 non-null    object \n",
      " 4   Education          844 non-null    object \n",
      " 5   Self_Employed      844 non-null    object \n",
      " 6   Property_Area      844 non-null    object \n",
      " 7   ApplicantIncome    844 non-null    float64\n",
      " 8   CoapplicantIncome  844 non-null    float64\n",
      " 9   LoanAmount         844 non-null    float64\n",
      " 10  Loan_Amount_Term   844 non-null    float64\n",
      " 11  Credit_History     844 non-null    float64\n",
      "dtypes: float64(5), object(7)\n",
      "memory usage: 79.2+ KB\n"
     ]
    }
   ],
   "source": [
    "x_resample.info()"
   ]
  },
  {
   "cell_type": "code",
   "execution_count": 26,
   "id": "e8fd68ac-2053-4c4a-b501-e81c80ec2bb5",
   "metadata": {},
   "outputs": [],
   "source": [
    "def encodage(dataframe):            \n",
    "    '''\n",
    "    transforms object types into categorical and then into numeric\n",
    "    '''\n",
    "    for column, content in dataframe.items():\n",
    "        if pd.api.types.is_object_dtype(content):\n",
    "            dataframe[column] = content.astype('category').cat.as_ordered()\n",
    "\n",
    "    for column, content in dataframe.items():          # category -> integer (+1)\n",
    "        if pd.api.types.is_categorical_dtype(content):\n",
    "                dataframe[column] =  pd.Categorical(content).codes + 1"
   ]
  },
  {
   "cell_type": "code",
   "execution_count": 27,
   "id": "0a88c88b-13bd-46c2-bfb6-aa2b0ffdebc6",
   "metadata": {},
   "outputs": [],
   "source": [
    "encodage(x_resample)"
   ]
  },
  {
   "cell_type": "markdown",
   "id": "f7542ece-ed79-42dc-8830-dcc318314442",
   "metadata": {},
   "source": [
    "### Label Encoder for the Target column"
   ]
  },
  {
   "cell_type": "code",
   "execution_count": 28,
   "id": "21ce13b6-81db-40cb-9221-432ce708d0f6",
   "metadata": {},
   "outputs": [],
   "source": [
    "from sklearn.preprocessing import LabelEncoder\n",
    "\n",
    "label_encoder = LabelEncoder()\n",
    "y_resample = label_encoder.fit_transform(y_resample)"
   ]
  },
  {
   "cell_type": "code",
   "execution_count": 29,
   "id": "3ab8d38f-1f3a-4324-b606-7bac127579c5",
   "metadata": {},
   "outputs": [
    {
     "data": {
      "text/plain": [
       "array([1, 0, 1, 1, 1, 1, 1, 0, 1, 0, 1, 1, 1, 0, 1])"
      ]
     },
     "execution_count": 29,
     "metadata": {},
     "output_type": "execute_result"
    }
   ],
   "source": [
    "y_resample[:15]"
   ]
  },
  {
   "cell_type": "code",
   "execution_count": 30,
   "id": "9debddf4-c880-4024-a1c2-33aa8fc927b4",
   "metadata": {},
   "outputs": [],
   "source": [
    "X = x_resample\n",
    "Y = pd.DataFrame(y_resample, columns=['Target'])"
   ]
  },
  {
   "cell_type": "markdown",
   "id": "acdd884a-21d4-458c-9edb-9b578641dd24",
   "metadata": {},
   "source": [
    "### Our data is ready for Modelling ! "
   ]
  },
  {
   "cell_type": "markdown",
   "id": "1cae2baa-f4db-497e-bcea-3443e82f30c5",
   "metadata": {
    "tags": []
   },
   "source": [
    "# Modelling\n",
    "\n",
    "### About metrics\n",
    "\n",
    "   * Accuracy - The accuracy of the model in decimal form. Perfect accuracy is equal to 1.0.\n",
    "   * Precision - Indicates the proportion of positive identifications (model predicted class 1) which were actually correct. A model which produces no false positives has a precision of 1.0.\n",
    "   * Recall - Indicates the proportion of actual positives which were correctly classified. A model which produces no false negatives has a recall of 1.0.\n",
    "   * F1 score - A combination of precision and recall. A perfect model achieves an F1 score of 1.0."
   ]
  },
  {
   "cell_type": "code",
   "execution_count": 31,
   "id": "ee6156f4-6a47-48fa-94c0-e91a4f3cd6cb",
   "metadata": {},
   "outputs": [],
   "source": [
    "from sklearn.model_selection import train_test_split\n",
    "from sklearn.ensemble import RandomForestClassifier, AdaBoostClassifier\n",
    "from sklearn.tree import DecisionTreeClassifier\n",
    "from sklearn.linear_model import LinearRegression\n",
    "from sklearn.neighbors import KNeighborsClassifier\n",
    "from sklearn.svm import SVC\n",
    "from sklearn.metrics import recall_score, f1_score, accuracy_score, precision_score, classification_report, confusion_matrix\n",
    "from sklearn.model_selection import RandomizedSearchCV, GridSearchCV\n",
    "\n",
    "np.random.seed(0)\n",
    "    \n",
    "x_train, x_test,y_train, y_test = train_test_split(X, Y, test_size=0.2, random_state=0)"
   ]
  },
  {
   "cell_type": "code",
   "execution_count": 32,
   "id": "b0d84a2d-fb30-4423-8111-d78710f408ca",
   "metadata": {},
   "outputs": [],
   "source": [
    "def one_model(model_to_use, metrics = False, classif = False, conf_matrix = False, model = False):\n",
    "    \n",
    "    '''\n",
    "    here is a function that is able to return several differents metrics\n",
    "    '''\n",
    "    \n",
    "    np.random.seed(0)\n",
    "    \n",
    "    global x_train, x_test,y_train, y_test\n",
    "    \n",
    "    model = model_to_use\n",
    "    model.fit(x_train, y_train)\n",
    "    y_pred = model.predict(x_test)\n",
    "    \n",
    "    if metrics:\n",
    "    \n",
    "        print(f'For the model : {model_to_use} :') \n",
    "        print(f'The recall_score is : {recall_score(y_test, y_pred)}')  \n",
    "        print(f'The f1_score is : {f1_score(y_test, y_pred)}') \n",
    "        print(f'The precision_score is : {precision_score(y_test, y_pred)}')  \n",
    "        print(f'The accuracy_score is : {accuracy_score(y_test, y_pred)}\\n')   \n",
    "    \n",
    "    elif classif :\n",
    "        print(classification_report(y_test, y_pred))\n",
    "        \n",
    "    elif conf_matrix:\n",
    "        # print(confusion_matrix(y_test, y_pred))\n",
    "        plt.figure(figsize=[10,6])\n",
    "        sns.heatmap(confusion_matrix(y_test, y_pred), annot = True, fmt = 'g', linewidths=1, cbar = False)\n",
    "        plt.title('Confusion Matrix', size = 18);\n",
    "        \n",
    "    elif model :\n",
    "        return model"
   ]
  },
  {
   "cell_type": "code",
   "execution_count": 33,
   "id": "33c18dde-1fa7-4182-8992-1e680c5caeaa",
   "metadata": {},
   "outputs": [],
   "source": [
    "lst_model = [DecisionTreeClassifier(), RandomForestClassifier(), KNeighborsClassifier(), SVC(), AdaBoostClassifier()]"
   ]
  },
  {
   "cell_type": "code",
   "execution_count": 34,
   "id": "d9fc0878-dcb8-4957-b00d-5fc20c62f3ff",
   "metadata": {},
   "outputs": [
    {
     "name": "stdout",
     "output_type": "stream",
     "text": [
      "For the model : DecisionTreeClassifier() :\n",
      "The recall_score is : 0.6626506024096386\n",
      "The f1_score is : 0.7746478873239436\n",
      "The precision_score is : 0.9322033898305084\n",
      "The accuracy_score is : 0.8106508875739645\n",
      "\n",
      "For the model : RandomForestClassifier() :\n",
      "The recall_score is : 0.9036144578313253\n",
      "The f1_score is : 0.9090909090909091\n",
      "The precision_score is : 0.9146341463414634\n",
      "The accuracy_score is : 0.9112426035502958\n",
      "\n",
      "For the model : KNeighborsClassifier() :\n",
      "The recall_score is : 0.6144578313253012\n",
      "The f1_score is : 0.6035502958579881\n",
      "The precision_score is : 0.5930232558139535\n",
      "The accuracy_score is : 0.6035502958579881\n",
      "\n",
      "For the model : SVC() :\n",
      "The recall_score is : 0.8313253012048193\n",
      "The f1_score is : 0.6330275229357798\n",
      "The precision_score is : 0.5111111111111111\n",
      "The accuracy_score is : 0.5266272189349113\n",
      "\n",
      "For the model : AdaBoostClassifier() :\n",
      "The recall_score is : 0.8554216867469879\n",
      "The f1_score is : 0.7759562841530054\n",
      "The precision_score is : 0.71\n",
      "The accuracy_score is : 0.757396449704142\n",
      "\n"
     ]
    }
   ],
   "source": [
    "for element in lst_model:\n",
    "    one_model(element, metrics = True)"
   ]
  },
  {
   "cell_type": "markdown",
   "id": "4f23d64c-85c9-4ef0-9023-200ef61c5e19",
   "metadata": {},
   "source": [
    "We can see that the RandomForestRegressor model is the one that gets better results."
   ]
  },
  {
   "cell_type": "markdown",
   "id": "e8e693d9-d233-4e96-8a12-63fa1f949540",
   "metadata": {
    "jp-MarkdownHeadingCollapsed": true,
    "tags": []
   },
   "source": [
    "## Features Importances \n",
    "\n",
    "Feature importance refers to techniques that calculate a score for all input features for a given model - the scores simply represent the \"importance\" of each feature. A higher score means that the specific characteristic will have a greater effect **on the model used** to predict a certain variable."
   ]
  },
  {
   "cell_type": "code",
   "execution_count": 35,
   "id": "5d64a3ae-aff1-4ab1-a8ab-93ae6bdb996b",
   "metadata": {},
   "outputs": [
    {
     "data": {
      "text/plain": [
       "array([0.15680399, 0.02299854, 0.01976871, 0.04407886, 0.01889596,\n",
       "       0.02412264, 0.04966439, 0.16247381, 0.09245067, 0.15147506,\n",
       "       0.02910426, 0.22816312])"
      ]
     },
     "execution_count": 35,
     "metadata": {},
     "output_type": "execute_result"
    }
   ],
   "source": [
    "one_model(RandomForestClassifier(), model = True).feature_importances_"
   ]
  },
  {
   "cell_type": "code",
   "execution_count": 36,
   "id": "87acae46-8e43-4313-b016-186e3a2ad3f3",
   "metadata": {},
   "outputs": [
    {
     "data": {
      "text/html": [
       "<div>\n",
       "<style scoped>\n",
       "    .dataframe tbody tr th:only-of-type {\n",
       "        vertical-align: middle;\n",
       "    }\n",
       "\n",
       "    .dataframe tbody tr th {\n",
       "        vertical-align: top;\n",
       "    }\n",
       "\n",
       "    .dataframe thead th {\n",
       "        text-align: right;\n",
       "    }\n",
       "</style>\n",
       "<table border=\"1\" class=\"dataframe\">\n",
       "  <thead>\n",
       "    <tr style=\"text-align: right;\">\n",
       "      <th></th>\n",
       "      <th>features_importances</th>\n",
       "    </tr>\n",
       "  </thead>\n",
       "  <tbody>\n",
       "    <tr>\n",
       "      <th>Loan_ID</th>\n",
       "      <td>0.156804</td>\n",
       "    </tr>\n",
       "    <tr>\n",
       "      <th>Gender</th>\n",
       "      <td>0.022999</td>\n",
       "    </tr>\n",
       "    <tr>\n",
       "      <th>Married</th>\n",
       "      <td>0.019769</td>\n",
       "    </tr>\n",
       "    <tr>\n",
       "      <th>Dependents</th>\n",
       "      <td>0.044079</td>\n",
       "    </tr>\n",
       "    <tr>\n",
       "      <th>Education</th>\n",
       "      <td>0.018896</td>\n",
       "    </tr>\n",
       "    <tr>\n",
       "      <th>Self_Employed</th>\n",
       "      <td>0.024123</td>\n",
       "    </tr>\n",
       "    <tr>\n",
       "      <th>Property_Area</th>\n",
       "      <td>0.049664</td>\n",
       "    </tr>\n",
       "    <tr>\n",
       "      <th>ApplicantIncome</th>\n",
       "      <td>0.162474</td>\n",
       "    </tr>\n",
       "    <tr>\n",
       "      <th>CoapplicantIncome</th>\n",
       "      <td>0.092451</td>\n",
       "    </tr>\n",
       "    <tr>\n",
       "      <th>LoanAmount</th>\n",
       "      <td>0.151475</td>\n",
       "    </tr>\n",
       "    <tr>\n",
       "      <th>Loan_Amount_Term</th>\n",
       "      <td>0.029104</td>\n",
       "    </tr>\n",
       "    <tr>\n",
       "      <th>Credit_History</th>\n",
       "      <td>0.228163</td>\n",
       "    </tr>\n",
       "  </tbody>\n",
       "</table>\n",
       "</div>"
      ],
      "text/plain": [
       "                   features_importances\n",
       "Loan_ID                        0.156804\n",
       "Gender                         0.022999\n",
       "Married                        0.019769\n",
       "Dependents                     0.044079\n",
       "Education                      0.018896\n",
       "Self_Employed                  0.024123\n",
       "Property_Area                  0.049664\n",
       "ApplicantIncome                0.162474\n",
       "CoapplicantIncome              0.092451\n",
       "LoanAmount                     0.151475\n",
       "Loan_Amount_Term               0.029104\n",
       "Credit_History                 0.228163"
      ]
     },
     "execution_count": 36,
     "metadata": {},
     "output_type": "execute_result"
    }
   ],
   "source": [
    "features_imp = pd.DataFrame(one_model(RandomForestClassifier(), model = True).feature_importances_, index = X.columns)\n",
    "features_imp = features_imp.rename(columns = {0 : 'features_importances'})\n",
    "features_imp"
   ]
  },
  {
   "cell_type": "code",
   "execution_count": 37,
   "id": "fc2780a3-93ec-4eed-aa01-2af9ae40e316",
   "metadata": {},
   "outputs": [
    {
     "data": {
      "image/png": "[encoded data removed]",
      "text/plain": [
       "<Figure size 1800x432 with 1 Axes>"
      ]
     },
     "metadata": {},
     "output_type": "display_data"
    }
   ],
   "source": [
    "plt.figure(figsize= [25,6])\n",
    "plt.grid()\n",
    "plt.bar(x = X.columns, height=features_imp.features_importances, color = 'teal');"
   ]
  },
  {
   "cell_type": "markdown",
   "id": "83b3e574-cb41-40cf-b615-4e9b0d33d996",
   "metadata": {},
   "source": [
    "We can see the features that our RandomForest model uses the most to predict the Target"
   ]
  },
  {
   "cell_type": "markdown",
   "id": "5a10fd20-ef3b-48d1-b623-b93c8170a3ad",
   "metadata": {
    "tags": []
   },
   "source": [
    "## Features selection\n",
    "\n",
    "We will now try to optimize our model by removing the variables that do not vary (or the least) with the target"
   ]
  },
  {
   "cell_type": "code",
   "execution_count": 38,
   "id": "ed00e0f7-5e4d-4be9-8186-f495feac199a",
   "metadata": {},
   "outputs": [],
   "source": [
    "from sklearn.feature_selection import SelectKBest, f_classif\n",
    "from sklearn.preprocessing import StandardScaler\n",
    "from sklearn.pipeline import make_pipeline\n",
    "\n",
    "def select_kbest():\n",
    "    \n",
    "    np.random.seed(0)    \n",
    "    for i in range(8,13):\n",
    "        model_opt = make_pipeline(SelectKBest(f_classif, k = i), \n",
    "                                  RandomForestClassifier())\n",
    "        print(one_model(model_opt, metrics=True))"
   ]
  },
  {
   "cell_type": "code",
   "execution_count": 39,
   "id": "7055ca6e-764e-412a-92a4-9e3294c837cc",
   "metadata": {},
   "outputs": [
    {
     "name": "stdout",
     "output_type": "stream",
     "text": [
      "For the model : Pipeline(steps=[('selectkbest', SelectKBest(k=8)),\n",
      "                ('randomforestclassifier', RandomForestClassifier())]) :\n",
      "The recall_score is : 0.891566265060241\n",
      "The f1_score is : 0.9192546583850931\n",
      "The precision_score is : 0.9487179487179487\n",
      "The accuracy_score is : 0.9230769230769231\n",
      "\n",
      "None\n",
      "For the model : Pipeline(steps=[('selectkbest', SelectKBest(k=9)),\n",
      "                ('randomforestclassifier', RandomForestClassifier())]) :\n",
      "The recall_score is : 0.891566265060241\n",
      "The f1_score is : 0.9024390243902438\n",
      "The precision_score is : 0.9135802469135802\n",
      "The accuracy_score is : 0.9053254437869822\n",
      "\n",
      "None\n",
      "For the model : Pipeline(steps=[('selectkbest', SelectKBest()),\n",
      "                ('randomforestclassifier', RandomForestClassifier())]) :\n",
      "The recall_score is : 0.927710843373494\n",
      "The f1_score is : 0.9221556886227544\n",
      "The precision_score is : 0.9166666666666666\n",
      "The accuracy_score is : 0.9230769230769231\n",
      "\n",
      "None\n",
      "For the model : Pipeline(steps=[('selectkbest', SelectKBest(k=11)),\n",
      "                ('randomforestclassifier', RandomForestClassifier())]) :\n",
      "The recall_score is : 0.927710843373494\n",
      "The f1_score is : 0.9221556886227544\n",
      "The precision_score is : 0.9166666666666666\n",
      "The accuracy_score is : 0.9230769230769231\n",
      "\n",
      "None\n",
      "For the model : Pipeline(steps=[('selectkbest', SelectKBest(k=12)),\n",
      "                ('randomforestclassifier', RandomForestClassifier())]) :\n",
      "The recall_score is : 0.9036144578313253\n",
      "The f1_score is : 0.9090909090909091\n",
      "The precision_score is : 0.9146341463414634\n",
      "The accuracy_score is : 0.9112426035502958\n",
      "\n",
      "None\n"
     ]
    }
   ],
   "source": [
    "select_kbest();"
   ]
  },
  {
   "cell_type": "code",
   "execution_count": 40,
   "id": "626ed9b6-bfca-48e1-9487-a12be6fef20a",
   "metadata": {},
   "outputs": [
    {
     "name": "stdout",
     "output_type": "stream",
     "text": [
      "              precision    recall  f1-score   support\n",
      "\n",
      "           0       0.91      0.92      0.91        86\n",
      "           1       0.91      0.90      0.91        83\n",
      "\n",
      "    accuracy                           0.91       169\n",
      "   macro avg       0.91      0.91      0.91       169\n",
      "weighted avg       0.91      0.91      0.91       169\n",
      "\n"
     ]
    },
    {
     "data": {
      "image/png": "[encoded data removed]",
      "text/plain": [
       "<Figure size 720x432 with 1 Axes>"
      ]
     },
     "metadata": {},
     "output_type": "display_data"
    }
   ],
   "source": [
    "one_model(RandomForestClassifier(), conf_matrix=True), one_model(RandomForestClassifier(), classif=True);"
   ]
  },
  {
   "cell_type": "markdown",
   "id": "013b9578-dc6d-4c4b-80c9-0302681a9d9f",
   "metadata": {},
   "source": [
    "We can see from this matrix that out of 86 people who have had their mortgage accepted, the model has succeeded in predicting 76 (88.37% good answers).\n",
    "\n",
    "We can also see this on the negatives, where the model predicted 78 correct answers out of 83 (93% good answers)."
   ]
  },
  {
   "cell_type": "markdown",
   "id": "9fe73db3-ed92-4c80-b2a2-1e7edf9a3f62",
   "metadata": {},
   "source": [
    "## Oprimization By RandomizedSearchCV"
   ]
  },
  {
   "cell_type": "code",
   "execution_count": 41,
   "id": "a68ef98f-e783-48fc-bae0-dee9b436632d",
   "metadata": {},
   "outputs": [
    {
     "name": "stdout",
     "output_type": "stream",
     "text": [
      "The Accuracy Score is : 91.0 %\n"
     ]
    }
   ],
   "source": [
    "from sklearn.model_selection import RandomizedSearchCV\n",
    "\n",
    "model_grid = RandomForestClassifier()\n",
    "model_grid.fit(x_train, y_train)\n",
    "print(f'The Accuracy Score is : {round(model_grid.score(x_test, y_test),2)*100} %')"
   ]
  },
  {
   "cell_type": "code",
   "execution_count": 42,
   "id": "f08b45cb-af5c-40e8-aacd-da47c3581e0f",
   "metadata": {},
   "outputs": [
    {
     "name": "stdout",
     "output_type": "stream",
     "text": [
      "CPU times: user 4 µs, sys: 1 µs, total: 5 µs\n",
      "Wall time: 10 µs\n",
      "The best estimator is : RandomForestClassifier(criterion='log_loss', n_estimators=250, random_state=8)\n",
      "The best score is : 0.8770370370370371\n",
      "The best parameters are : {'random_state': 8, 'n_jobs': None, 'n_estimators': 250, 'max_features': 'sqrt', 'criterion': 'log_loss'}\n"
     ]
    }
   ],
   "source": [
    "%time\n",
    "\n",
    "np.random.seed(0)\n",
    "\n",
    "search_params = {'n_estimators' : [50,100,150,200,250, 300],\n",
    "                  'criterion' : ['gini', 'entropy', 'log_loss'],\n",
    "                  'max_features' : ['sqrt', 'log2', None],\n",
    "                  'n_jobs' : [-1,1,None],\n",
    "                  'random_state': [2,4,6,8,10]}\n",
    "\n",
    "search = RandomizedSearchCV(model_grid, param_distributions= search_params, n_iter = 10, cv = 5)\n",
    "search.fit(x_train, y_train)\n",
    "print(f'The best estimator is : {search.best_estimator_}')\n",
    "print(f'The best score is : {search.best_score_}')\n",
    "print(f'The best parameters are : {search.best_params_}')"
   ]
  },
  {
   "cell_type": "code",
   "execution_count": 43,
   "id": "fdfde2d4-a3a5-401b-b610-b65f3970280b",
   "metadata": {},
   "outputs": [
    {
     "name": "stdout",
     "output_type": "stream",
     "text": [
      "For the model : RandomForestClassifier(n_estimators=200, random_state=2) :\n",
      "The recall_score is : 0.9397590361445783\n",
      "The f1_score is : 0.9341317365269461\n",
      "The precision_score is : 0.9285714285714286\n",
      "The accuracy_score is : 0.9349112426035503\n",
      "\n"
     ]
    }
   ],
   "source": [
    "one_model(RandomForestClassifier(random_state = 2, n_jobs = None, n_estimators =  200, max_features = 'sqrt', criterion =  'gini'),\n",
    "         metrics = True, conf_matrix = True)"
   ]
  },
  {
   "cell_type": "markdown",
   "id": "2fe2c142-c69f-4fad-9e03-d3ce13b94258",
   "metadata": {},
   "source": [
    "# Prediction"
   ]
  },
  {
   "cell_type": "code",
   "execution_count": 44,
   "id": "ccb7219b-9b1f-4ba0-989d-e938a0c55a05",
   "metadata": {},
   "outputs": [
    {
     "data": {
      "text/html": [
       "<div>\n",
       "<style scoped>\n",
       "    .dataframe tbody tr th:only-of-type {\n",
       "        vertical-align: middle;\n",
       "    }\n",
       "\n",
       "    .dataframe tbody tr th {\n",
       "        vertical-align: top;\n",
       "    }\n",
       "\n",
       "    .dataframe thead th {\n",
       "        text-align: right;\n",
       "    }\n",
       "</style>\n",
       "<table border=\"1\" class=\"dataframe\">\n",
       "  <thead>\n",
       "    <tr style=\"text-align: right;\">\n",
       "      <th></th>\n",
       "      <th>Loan_ID</th>\n",
       "      <th>Gender</th>\n",
       "      <th>Married</th>\n",
       "      <th>Dependents</th>\n",
       "      <th>Education</th>\n",
       "      <th>Self_Employed</th>\n",
       "      <th>ApplicantIncome</th>\n",
       "      <th>CoapplicantIncome</th>\n",
       "      <th>LoanAmount</th>\n",
       "      <th>Loan_Amount_Term</th>\n",
       "      <th>Credit_History</th>\n",
       "      <th>Property_Area</th>\n",
       "    </tr>\n",
       "  </thead>\n",
       "  <tbody>\n",
       "    <tr>\n",
       "      <th>0</th>\n",
       "      <td>LP001015</td>\n",
       "      <td>Male</td>\n",
       "      <td>Yes</td>\n",
       "      <td>0</td>\n",
       "      <td>Graduate</td>\n",
       "      <td>No</td>\n",
       "      <td>5720</td>\n",
       "      <td>0</td>\n",
       "      <td>110.0</td>\n",
       "      <td>360.0</td>\n",
       "      <td>1.0</td>\n",
       "      <td>Urban</td>\n",
       "    </tr>\n",
       "    <tr>\n",
       "      <th>1</th>\n",
       "      <td>LP001022</td>\n",
       "      <td>Male</td>\n",
       "      <td>Yes</td>\n",
       "      <td>1</td>\n",
       "      <td>Graduate</td>\n",
       "      <td>No</td>\n",
       "      <td>3076</td>\n",
       "      <td>1500</td>\n",
       "      <td>126.0</td>\n",
       "      <td>360.0</td>\n",
       "      <td>1.0</td>\n",
       "      <td>Urban</td>\n",
       "    </tr>\n",
       "    <tr>\n",
       "      <th>2</th>\n",
       "      <td>LP001031</td>\n",
       "      <td>Male</td>\n",
       "      <td>Yes</td>\n",
       "      <td>2</td>\n",
       "      <td>Graduate</td>\n",
       "      <td>No</td>\n",
       "      <td>5000</td>\n",
       "      <td>1800</td>\n",
       "      <td>208.0</td>\n",
       "      <td>360.0</td>\n",
       "      <td>1.0</td>\n",
       "      <td>Urban</td>\n",
       "    </tr>\n",
       "    <tr>\n",
       "      <th>3</th>\n",
       "      <td>LP001035</td>\n",
       "      <td>Male</td>\n",
       "      <td>Yes</td>\n",
       "      <td>2</td>\n",
       "      <td>Graduate</td>\n",
       "      <td>No</td>\n",
       "      <td>2340</td>\n",
       "      <td>2546</td>\n",
       "      <td>100.0</td>\n",
       "      <td>360.0</td>\n",
       "      <td>NaN</td>\n",
       "      <td>Urban</td>\n",
       "    </tr>\n",
       "    <tr>\n",
       "      <th>4</th>\n",
       "      <td>LP001051</td>\n",
       "      <td>Male</td>\n",
       "      <td>No</td>\n",
       "      <td>0</td>\n",
       "      <td>Not Graduate</td>\n",
       "      <td>No</td>\n",
       "      <td>3276</td>\n",
       "      <td>0</td>\n",
       "      <td>78.0</td>\n",
       "      <td>360.0</td>\n",
       "      <td>1.0</td>\n",
       "      <td>Urban</td>\n",
       "    </tr>\n",
       "  </tbody>\n",
       "</table>\n",
       "</div>"
      ],
      "text/plain": [
       "    Loan_ID Gender Married Dependents     Education Self_Employed  \\\n",
       "0  LP001015   Male     Yes          0      Graduate            No   \n",
       "1  LP001022   Male     Yes          1      Graduate            No   \n",
       "2  LP001031   Male     Yes          2      Graduate            No   \n",
       "3  LP001035   Male     Yes          2      Graduate            No   \n",
       "4  LP001051   Male      No          0  Not Graduate            No   \n",
       "\n",
       "   ApplicantIncome  CoapplicantIncome  LoanAmount  Loan_Amount_Term  \\\n",
       "0             5720                  0       110.0             360.0   \n",
       "1             3076               1500       126.0             360.0   \n",
       "2             5000               1800       208.0             360.0   \n",
       "3             2340               2546       100.0             360.0   \n",
       "4             3276                  0        78.0             360.0   \n",
       "\n",
       "   Credit_History Property_Area  \n",
       "0             1.0         Urban  \n",
       "1             1.0         Urban  \n",
       "2             1.0         Urban  \n",
       "3             NaN         Urban  \n",
       "4             1.0         Urban  "
      ]
     },
     "execution_count": 44,
     "metadata": {},
     "output_type": "execute_result"
    }
   ],
   "source": [
    "test_set = pd.read_csv('/Users/nathan/Desktop/loan_sanction_test.csv')\n",
    "test_set2 = test_set.copy()\n",
    "test_set.head()"
   ]
  },
  {
   "cell_type": "code",
   "execution_count": 45,
   "id": "fd72136c-3476-452b-acb8-1a58703e6702",
   "metadata": {},
   "outputs": [
    {
     "data": {
      "text/plain": [
       "((675, 12), (367, 12))"
      ]
     },
     "execution_count": 45,
     "metadata": {},
     "output_type": "execute_result"
    }
   ],
   "source": [
    "x_train.shape, test_set.shape"
   ]
  },
  {
   "cell_type": "markdown",
   "id": "b1ff0291-3d8c-478f-9aa4-8bc1fbdcd0ee",
   "metadata": {},
   "source": [
    "The test_set is an original dataset, so it must go through all the steps that the training dataset went through."
   ]
  },
  {
   "cell_type": "code",
   "execution_count": 46,
   "id": "27393e76-29c5-4018-bb7b-5f034870ba36",
   "metadata": {},
   "outputs": [],
   "source": [
    "# imputation for test_set\n",
    "\n",
    "obj_lst_test = []    # object list\n",
    "num_lst_test = []    # numerical list\n",
    "\n",
    "for column, content in test_set.items():\n",
    "    if pd.api.types.is_object_dtype(content):\n",
    "        obj_lst_test.append(column)\n",
    "    elif pd.api.types.is_numeric_dtype(content):\n",
    "        num_lst_test.append(column)\n",
    "\n",
    "\n",
    "object_imputer = SimpleImputer(missing_values=np.nan, strategy = 'constant', fill_value='missing')\n",
    "int_imputer = SimpleImputer(missing_values=np.nan, strategy = 'median')\n",
    "\n",
    "\n",
    "imputer_test = ColumnTransformer([('object_lst_test', object_imputer, obj_lst_test),\n",
    "                            ('int_lst_test', int_imputer, num_lst_test)])"
   ]
  },
  {
   "cell_type": "code",
   "execution_count": 47,
   "id": "a75d39d2-8a39-414d-aabb-7548dac5078a",
   "metadata": {},
   "outputs": [],
   "source": [
    "df_test = imputer_test.fit_transform(test_set)\n",
    "df_test = pd.DataFrame(df_test, columns= ['Loan_ID', 'Gender', 'Married', 'Dependents', 'Education', \n",
    "                                'Self_Employed', 'Property_Area','ApplicantIncome',\n",
    "                                'CoapplicantIncome', 'LoanAmount','Loan_Amount_Term', 'Credit_History'])"
   ]
  },
  {
   "cell_type": "code",
   "execution_count": 48,
   "id": "bb425a07-050e-49c9-bd2e-66456019c186",
   "metadata": {},
   "outputs": [
    {
     "data": {
      "text/plain": [
       "Loan_ID              0\n",
       "Gender               0\n",
       "Married              0\n",
       "Dependents           0\n",
       "Education            0\n",
       "Self_Employed        0\n",
       "Property_Area        0\n",
       "ApplicantIncome      0\n",
       "CoapplicantIncome    0\n",
       "LoanAmount           0\n",
       "Loan_Amount_Term     0\n",
       "Credit_History       0\n",
       "dtype: int64"
      ]
     },
     "execution_count": 48,
     "metadata": {},
     "output_type": "execute_result"
    }
   ],
   "source": [
    "df_test.isna().sum()"
   ]
  },
  {
   "cell_type": "code",
   "execution_count": 49,
   "id": "66017cae-52d6-40a2-bd39-626fdae78be5",
   "metadata": {},
   "outputs": [
    {
     "name": "stdout",
     "output_type": "stream",
     "text": [
      "<class 'pandas.core.frame.DataFrame'>\n",
      "RangeIndex: 367 entries, 0 to 366\n",
      "Data columns (total 12 columns):\n",
      " #   Column             Non-Null Count  Dtype\n",
      "---  ------             --------------  -----\n",
      " 0   Loan_ID            367 non-null    int16\n",
      " 1   Gender             367 non-null    int8 \n",
      " 2   Married            367 non-null    int8 \n",
      " 3   Dependents         367 non-null    int8 \n",
      " 4   Education          367 non-null    int8 \n",
      " 5   Self_Employed      367 non-null    int8 \n",
      " 6   Property_Area      367 non-null    int8 \n",
      " 7   ApplicantIncome    367 non-null    int16\n",
      " 8   CoapplicantIncome  367 non-null    int16\n",
      " 9   LoanAmount         367 non-null    int16\n",
      " 10  Loan_Amount_Term   367 non-null    int8 \n",
      " 11  Credit_History     367 non-null    int8 \n",
      "dtypes: int16(4), int8(8)\n",
      "memory usage: 5.9 KB\n"
     ]
    }
   ],
   "source": [
    "# encoding test_set\n",
    "\n",
    "encodage(df_test)\n",
    "df_test.info()"
   ]
  },
  {
   "cell_type": "markdown",
   "id": "29395079-d04f-4190-9ef7-1261ca18207e",
   "metadata": {},
   "source": [
    "### Prediction on test_set"
   ]
  },
  {
   "cell_type": "code",
   "execution_count": 50,
   "id": "0a1eeeed-8d41-4d8e-a6b7-2b5c31028df4",
   "metadata": {},
   "outputs": [],
   "source": [
    "final_model = one_model(RandomForestClassifier(random_state = 4, n_jobs = None, n_estimators =  200, max_features = 'sqrt', criterion =  'log_loss'),\n",
    "                        model=True)"
   ]
  },
  {
   "cell_type": "code",
   "execution_count": 51,
   "id": "d0ec8347-cd18-4b39-9073-178aa1d03197",
   "metadata": {},
   "outputs": [],
   "source": [
    "predictions = final_model.predict(df_test)"
   ]
  },
  {
   "cell_type": "code",
   "execution_count": 52,
   "id": "9312e6f6-f039-4267-b46d-542b0eb54a52",
   "metadata": {},
   "outputs": [
    {
     "data": {
      "text/html": [
       "<div>\n",
       "<style scoped>\n",
       "    .dataframe tbody tr th:only-of-type {\n",
       "        vertical-align: middle;\n",
       "    }\n",
       "\n",
       "    .dataframe tbody tr th {\n",
       "        vertical-align: top;\n",
       "    }\n",
       "\n",
       "    .dataframe thead th {\n",
       "        text-align: right;\n",
       "    }\n",
       "</style>\n",
       "<table border=\"1\" class=\"dataframe\">\n",
       "  <thead>\n",
       "    <tr style=\"text-align: right;\">\n",
       "      <th></th>\n",
       "      <th>Loan_ID</th>\n",
       "      <th>Gender</th>\n",
       "      <th>Married</th>\n",
       "      <th>Dependents</th>\n",
       "      <th>Education</th>\n",
       "      <th>Self_Employed</th>\n",
       "      <th>Property_Area</th>\n",
       "      <th>ApplicantIncome</th>\n",
       "      <th>CoapplicantIncome</th>\n",
       "      <th>LoanAmount</th>\n",
       "      <th>Loan_Amount_Term</th>\n",
       "      <th>Credit_History</th>\n",
       "      <th>Prediction</th>\n",
       "    </tr>\n",
       "  </thead>\n",
       "  <tbody>\n",
       "    <tr>\n",
       "      <th>0</th>\n",
       "      <td>1</td>\n",
       "      <td>2</td>\n",
       "      <td>2</td>\n",
       "      <td>1</td>\n",
       "      <td>1</td>\n",
       "      <td>1</td>\n",
       "      <td>3</td>\n",
       "      <td>252</td>\n",
       "      <td>1</td>\n",
       "      <td>53</td>\n",
       "      <td>11</td>\n",
       "      <td>2</td>\n",
       "      <td>0</td>\n",
       "    </tr>\n",
       "    <tr>\n",
       "      <th>1</th>\n",
       "      <td>2</td>\n",
       "      <td>2</td>\n",
       "      <td>2</td>\n",
       "      <td>2</td>\n",
       "      <td>1</td>\n",
       "      <td>1</td>\n",
       "      <td>3</td>\n",
       "      <td>103</td>\n",
       "      <td>44</td>\n",
       "      <td>68</td>\n",
       "      <td>11</td>\n",
       "      <td>2</td>\n",
       "      <td>0</td>\n",
       "    </tr>\n",
       "    <tr>\n",
       "      <th>2</th>\n",
       "      <td>3</td>\n",
       "      <td>2</td>\n",
       "      <td>2</td>\n",
       "      <td>3</td>\n",
       "      <td>1</td>\n",
       "      <td>1</td>\n",
       "      <td>3</td>\n",
       "      <td>231</td>\n",
       "      <td>68</td>\n",
       "      <td>120</td>\n",
       "      <td>11</td>\n",
       "      <td>2</td>\n",
       "      <td>0</td>\n",
       "    </tr>\n",
       "    <tr>\n",
       "      <th>3</th>\n",
       "      <td>4</td>\n",
       "      <td>2</td>\n",
       "      <td>2</td>\n",
       "      <td>3</td>\n",
       "      <td>1</td>\n",
       "      <td>1</td>\n",
       "      <td>3</td>\n",
       "      <td>44</td>\n",
       "      <td>111</td>\n",
       "      <td>43</td>\n",
       "      <td>11</td>\n",
       "      <td>2</td>\n",
       "      <td>0</td>\n",
       "    </tr>\n",
       "    <tr>\n",
       "      <th>4</th>\n",
       "      <td>5</td>\n",
       "      <td>2</td>\n",
       "      <td>1</td>\n",
       "      <td>1</td>\n",
       "      <td>2</td>\n",
       "      <td>1</td>\n",
       "      <td>3</td>\n",
       "      <td>121</td>\n",
       "      <td>1</td>\n",
       "      <td>26</td>\n",
       "      <td>11</td>\n",
       "      <td>2</td>\n",
       "      <td>0</td>\n",
       "    </tr>\n",
       "  </tbody>\n",
       "</table>\n",
       "</div>"
      ],
      "text/plain": [
       "   Loan_ID  Gender  Married  Dependents  Education  Self_Employed  \\\n",
       "0        1       2        2           1          1              1   \n",
       "1        2       2        2           2          1              1   \n",
       "2        3       2        2           3          1              1   \n",
       "3        4       2        2           3          1              1   \n",
       "4        5       2        1           1          2              1   \n",
       "\n",
       "   Property_Area  ApplicantIncome  CoapplicantIncome  LoanAmount  \\\n",
       "0              3              252                  1          53   \n",
       "1              3              103                 44          68   \n",
       "2              3              231                 68         120   \n",
       "3              3               44                111          43   \n",
       "4              3              121                  1          26   \n",
       "\n",
       "   Loan_Amount_Term  Credit_History  Prediction  \n",
       "0                11               2           0  \n",
       "1                11               2           0  \n",
       "2                11               2           0  \n",
       "3                11               2           0  \n",
       "4                11               2           0  "
      ]
     },
     "execution_count": 52,
     "metadata": {},
     "output_type": "execute_result"
    }
   ],
   "source": [
    "df_test['Prediction'] = predictions\n",
    "df_test.head()"
   ]
  },
  {
   "cell_type": "code",
   "execution_count": 53,
   "id": "c1832f5e-f917-484f-93d6-73c17022429c",
   "metadata": {},
   "outputs": [
    {
     "data": {
      "text/plain": [
       "0    362\n",
       "1      5\n",
       "Name: Prediction, dtype: int64"
      ]
     },
     "execution_count": 53,
     "metadata": {},
     "output_type": "execute_result"
    }
   ],
   "source": [
    "df_test.Prediction.value_counts()"
   ]
  }
 ],
 "metadata": {
  "kernelspec": {
   "display_name": "Python 3 (ipykernel)",
   "language": "python",
   "name": "python3"
  },
  "language_info": {
   "codemirror_mode": {
    "name": "ipython",
    "version": 3
   },
   "file_extension": ".py",
   "mimetype": "text/x-python",
   "name": "python",
   "nbconvert_exporter": "python",
   "pygments_lexer": "ipython3",
   "version": "3.9.12"
  }
 },
 "nbformat": 4,
 "nbformat_minor": 5
}
